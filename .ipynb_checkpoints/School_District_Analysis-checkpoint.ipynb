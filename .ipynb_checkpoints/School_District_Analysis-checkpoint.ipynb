{
 "cells": [
  {
   "cell_type": "markdown",
   "id": "418227be-703e-4b38-a80e-2a73225db071",
   "metadata": {
    "tags": []
   },
   "source": [
    "## Student Data Analysis\n",
    "\n",
    "In this activity, you will use the steps below to analyze a dataset of student test scores from schools in a fake school district.\n",
    "\n",
    "1. Collect the data.\n",
    "\n",
    "2. Prepare the data.\n",
    "\n",
    "3. Summarize the data. \n",
    "\n",
    "4. Drill down into the data. \n",
    "\n",
    "5. Make comparisons. \n",
    "\n"
   ]
  },
  {
   "cell_type": "code",
   "execution_count": 3,
   "id": "08e3103c-4f97-4196-b801-9367c2814306",
   "metadata": {},
   "outputs": [],
   "source": [
    "import pandas as pd\n",
    "\n",
    "import os"
   ]
  },
  {
   "cell_type": "code",
   "execution_count": 4,
   "id": "a57b85c1-d71a-41d4-9e4e-8f84d5655c2c",
   "metadata": {},
   "outputs": [],
   "source": [
    "#The path to the file is built by using os.path.join. (2 points)\n",
    "\n",
    "student_data = os.path.join('..','School_District_Analysis','Resources', 'new_full_student_data.csv')"
   ]
  },
  {
   "cell_type": "code",
   "execution_count": 5,
   "id": "e4be8947",
   "metadata": {},
   "outputs": [],
   "source": [
    "#The DataFrame is created and named student_df. (2 points)\n",
    "\n",
    "student_df = pd.read_csv(student_data)"
   ]
  },
  {
   "cell_type": "code",
   "execution_count": 6,
   "id": "a59a4d68-410a-43f0-a187-d1832bb1c675",
   "metadata": {},
   "outputs": [
    {
     "data": {
      "text/html": [
       "<div>\n",
       "<style scoped>\n",
       "    .dataframe tbody tr th:only-of-type {\n",
       "        vertical-align: middle;\n",
       "    }\n",
       "\n",
       "    .dataframe tbody tr th {\n",
       "        vertical-align: top;\n",
       "    }\n",
       "\n",
       "    .dataframe thead th {\n",
       "        text-align: right;\n",
       "    }\n",
       "</style>\n",
       "<table border=\"1\" class=\"dataframe\">\n",
       "  <thead>\n",
       "    <tr style=\"text-align: right;\">\n",
       "      <th></th>\n",
       "      <th>student_id</th>\n",
       "      <th>student_name</th>\n",
       "      <th>grade</th>\n",
       "      <th>school_name</th>\n",
       "      <th>reading_score</th>\n",
       "      <th>math_score</th>\n",
       "      <th>school_type</th>\n",
       "      <th>school_budget</th>\n",
       "    </tr>\n",
       "  </thead>\n",
       "  <tbody>\n",
       "    <tr>\n",
       "      <th>0</th>\n",
       "      <td>103880842</td>\n",
       "      <td>Travis Martin</td>\n",
       "      <td>9th</td>\n",
       "      <td>Sullivan High School</td>\n",
       "      <td>59.0</td>\n",
       "      <td>88.2</td>\n",
       "      <td>Public</td>\n",
       "      <td>961125</td>\n",
       "    </tr>\n",
       "    <tr>\n",
       "      <th>1</th>\n",
       "      <td>45069750</td>\n",
       "      <td>Michael Brown</td>\n",
       "      <td>9th</td>\n",
       "      <td>Dixon High School</td>\n",
       "      <td>94.7</td>\n",
       "      <td>73.5</td>\n",
       "      <td>Charter</td>\n",
       "      <td>870334</td>\n",
       "    </tr>\n",
       "    <tr>\n",
       "      <th>2</th>\n",
       "      <td>45024902</td>\n",
       "      <td>Gabriela Lucero</td>\n",
       "      <td>9th</td>\n",
       "      <td>Wagner High School</td>\n",
       "      <td>89.0</td>\n",
       "      <td>70.4</td>\n",
       "      <td>Public</td>\n",
       "      <td>846745</td>\n",
       "    </tr>\n",
       "    <tr>\n",
       "      <th>3</th>\n",
       "      <td>62582498</td>\n",
       "      <td>Susan Richardson</td>\n",
       "      <td>9th</td>\n",
       "      <td>Silva High School</td>\n",
       "      <td>69.7</td>\n",
       "      <td>80.3</td>\n",
       "      <td>Public</td>\n",
       "      <td>991918</td>\n",
       "    </tr>\n",
       "    <tr>\n",
       "      <th>4</th>\n",
       "      <td>16437227</td>\n",
       "      <td>Sherry Davis</td>\n",
       "      <td>11th</td>\n",
       "      <td>Bowers High School</td>\n",
       "      <td>NaN</td>\n",
       "      <td>27.5</td>\n",
       "      <td>Public</td>\n",
       "      <td>848324</td>\n",
       "    </tr>\n",
       "  </tbody>\n",
       "</table>\n",
       "</div>"
      ],
      "text/plain": [
       "   student_id      student_name grade           school_name  reading_score  \\\n",
       "0   103880842     Travis Martin   9th  Sullivan High School           59.0   \n",
       "1    45069750     Michael Brown   9th     Dixon High School           94.7   \n",
       "2    45024902   Gabriela Lucero   9th    Wagner High School           89.0   \n",
       "3    62582498  Susan Richardson   9th     Silva High School           69.7   \n",
       "4    16437227      Sherry Davis  11th    Bowers High School            NaN   \n",
       "\n",
       "   math_score school_type  school_budget  \n",
       "0        88.2      Public         961125  \n",
       "1        73.5     Charter         870334  \n",
       "2        70.4      Public         846745  \n",
       "3        80.3      Public         991918  \n",
       "4        27.5      Public         848324  "
      ]
     },
     "execution_count": 6,
     "metadata": {},
     "output_type": "execute_result"
    }
   ],
   "source": [
    "#The first five rows of data are displayed. (1 points)\n",
    " \n",
    "student_df.head()"
   ]
  },
  {
   "cell_type": "code",
   "execution_count": 7,
   "id": "82736cc8",
   "metadata": {},
   "outputs": [
    {
     "data": {
      "text/plain": [
       "student_id       0\n",
       "student_name     0\n",
       "grade            0\n",
       "school_name      0\n",
       "reading_score    0\n",
       "math_score       0\n",
       "school_type      0\n",
       "school_budget    0\n",
       "dtype: int64"
      ]
     },
     "execution_count": 7,
     "metadata": {},
     "output_type": "execute_result"
    }
   ],
   "source": [
    "#After the removal of null values, isna().sum() displays 0 for all the columns. (5 points)\n",
    "\n",
    "student_df = student_df.dropna()\n",
    "student_df.isna().sum()"
   ]
  },
  {
   "cell_type": "code",
   "execution_count": 8,
   "id": "cccee400",
   "metadata": {},
   "outputs": [],
   "source": [
    "student_df = student_df.drop_duplicates()"
   ]
  },
  {
   "cell_type": "code",
   "execution_count": 9,
   "id": "944a34ea",
   "metadata": {},
   "outputs": [
    {
     "data": {
      "text/plain": [
       "student_id         int64\n",
       "student_name      object\n",
       "grade             object\n",
       "school_name       object\n",
       "reading_score    float64\n",
       "math_score       float64\n",
       "school_type       object\n",
       "school_budget      int64\n",
       "dtype: object"
      ]
     },
     "execution_count": 9,
     "metadata": {},
     "output_type": "execute_result"
    }
   ],
   "source": [
    "#The column types are displayed. (5 points)\n",
    "\n",
    "student_df.dtypes"
   ]
  },
  {
   "cell_type": "code",
   "execution_count": 11,
   "id": "51a3fbe4",
   "metadata": {},
   "outputs": [
    {
     "data": {
      "text/html": [
       "<div>\n",
       "<style scoped>\n",
       "    .dataframe tbody tr th:only-of-type {\n",
       "        vertical-align: middle;\n",
       "    }\n",
       "\n",
       "    .dataframe tbody tr th {\n",
       "        vertical-align: top;\n",
       "    }\n",
       "\n",
       "    .dataframe thead th {\n",
       "        text-align: right;\n",
       "    }\n",
       "</style>\n",
       "<table border=\"1\" class=\"dataframe\">\n",
       "  <thead>\n",
       "    <tr style=\"text-align: right;\">\n",
       "      <th></th>\n",
       "      <th>student_id</th>\n",
       "      <th>student_name</th>\n",
       "      <th>grade</th>\n",
       "      <th>school_name</th>\n",
       "      <th>reading_score</th>\n",
       "      <th>math_score</th>\n",
       "      <th>school_type</th>\n",
       "      <th>school_budget</th>\n",
       "    </tr>\n",
       "  </thead>\n",
       "  <tbody>\n",
       "    <tr>\n",
       "      <th>0</th>\n",
       "      <td>103880842</td>\n",
       "      <td>Travis Martin</td>\n",
       "      <td>9</td>\n",
       "      <td>Sullivan High School</td>\n",
       "      <td>59.0</td>\n",
       "      <td>88.2</td>\n",
       "      <td>Public</td>\n",
       "      <td>961125</td>\n",
       "    </tr>\n",
       "    <tr>\n",
       "      <th>1</th>\n",
       "      <td>45069750</td>\n",
       "      <td>Michael Brown</td>\n",
       "      <td>9</td>\n",
       "      <td>Dixon High School</td>\n",
       "      <td>94.7</td>\n",
       "      <td>73.5</td>\n",
       "      <td>Charter</td>\n",
       "      <td>870334</td>\n",
       "    </tr>\n",
       "    <tr>\n",
       "      <th>2</th>\n",
       "      <td>45024902</td>\n",
       "      <td>Gabriela Lucero</td>\n",
       "      <td>9</td>\n",
       "      <td>Wagner High School</td>\n",
       "      <td>89.0</td>\n",
       "      <td>70.4</td>\n",
       "      <td>Public</td>\n",
       "      <td>846745</td>\n",
       "    </tr>\n",
       "    <tr>\n",
       "      <th>3</th>\n",
       "      <td>62582498</td>\n",
       "      <td>Susan Richardson</td>\n",
       "      <td>9</td>\n",
       "      <td>Silva High School</td>\n",
       "      <td>69.7</td>\n",
       "      <td>80.3</td>\n",
       "      <td>Public</td>\n",
       "      <td>991918</td>\n",
       "    </tr>\n",
       "    <tr>\n",
       "      <th>5</th>\n",
       "      <td>74579444</td>\n",
       "      <td>Cynthia Johnson</td>\n",
       "      <td>9</td>\n",
       "      <td>Montgomery High School</td>\n",
       "      <td>63.5</td>\n",
       "      <td>76.9</td>\n",
       "      <td>Charter</td>\n",
       "      <td>893368</td>\n",
       "    </tr>\n",
       "  </tbody>\n",
       "</table>\n",
       "</div>"
      ],
      "text/plain": [
       "   student_id      student_name grade             school_name  reading_score  \\\n",
       "0   103880842     Travis Martin     9    Sullivan High School           59.0   \n",
       "1    45069750     Michael Brown     9       Dixon High School           94.7   \n",
       "2    45024902   Gabriela Lucero     9      Wagner High School           89.0   \n",
       "3    62582498  Susan Richardson     9       Silva High School           69.7   \n",
       "5    74579444   Cynthia Johnson     9  Montgomery High School           63.5   \n",
       "\n",
       "   math_score school_type  school_budget  \n",
       "0        88.2      Public         961125  \n",
       "1        73.5     Charter         870334  \n",
       "2        70.4      Public         846745  \n",
       "3        80.3      Public         991918  \n",
       "5        76.9     Charter         893368  "
      ]
     },
     "execution_count": 11,
     "metadata": {},
     "output_type": "execute_result"
    }
   ],
   "source": [
    "#The \"th\" suffix is removed from all the values in the \"grade\" column. (5 points)\n",
    "\n",
    "student_df[\"grade\"] = student_df[\"grade\"].str.replace(\"th\", \"\")\n",
    "\n",
    "student_df.head()\n"
   ]
  },
  {
   "cell_type": "code",
   "execution_count": 13,
   "id": "4764090c",
   "metadata": {},
   "outputs": [
    {
     "data": {
      "text/plain": [
       "student_id         int64\n",
       "student_name      object\n",
       "grade              int64\n",
       "school_name       object\n",
       "reading_score    float64\n",
       "math_score       float64\n",
       "school_type       object\n",
       "school_budget      int64\n",
       "dtype: object"
      ]
     },
     "execution_count": 13,
     "metadata": {},
     "output_type": "execute_result"
    }
   ],
   "source": [
    "#The \"grade\" column is successfully converted to an int type. (5 points)\n",
    "\n",
    "student_df['grade'] = student_df[\"grade\"].astype(\"int64\")\n",
    "\n",
    "student_df.dtypes"
   ]
  },
  {
   "cell_type": "code",
   "execution_count": 14,
   "id": "e7546c2c",
   "metadata": {},
   "outputs": [
    {
     "data": {
      "text/html": [
       "<div>\n",
       "<style scoped>\n",
       "    .dataframe tbody tr th:only-of-type {\n",
       "        vertical-align: middle;\n",
       "    }\n",
       "\n",
       "    .dataframe tbody tr th {\n",
       "        vertical-align: top;\n",
       "    }\n",
       "\n",
       "    .dataframe thead th {\n",
       "        text-align: right;\n",
       "    }\n",
       "</style>\n",
       "<table border=\"1\" class=\"dataframe\">\n",
       "  <thead>\n",
       "    <tr style=\"text-align: right;\">\n",
       "      <th></th>\n",
       "      <th>student_id</th>\n",
       "      <th>grade</th>\n",
       "      <th>reading_score</th>\n",
       "      <th>math_score</th>\n",
       "      <th>school_budget</th>\n",
       "    </tr>\n",
       "  </thead>\n",
       "  <tbody>\n",
       "    <tr>\n",
       "      <th>count</th>\n",
       "      <td>1.483100e+04</td>\n",
       "      <td>14831.000000</td>\n",
       "      <td>14831.000000</td>\n",
       "      <td>14831.000000</td>\n",
       "      <td>14831.000000</td>\n",
       "    </tr>\n",
       "    <tr>\n",
       "      <th>mean</th>\n",
       "      <td>6.975296e+07</td>\n",
       "      <td>10.355539</td>\n",
       "      <td>72.357865</td>\n",
       "      <td>64.675733</td>\n",
       "      <td>893742.749107</td>\n",
       "    </tr>\n",
       "    <tr>\n",
       "      <th>std</th>\n",
       "      <td>3.452909e+07</td>\n",
       "      <td>1.097728</td>\n",
       "      <td>15.224590</td>\n",
       "      <td>15.844093</td>\n",
       "      <td>53938.066467</td>\n",
       "    </tr>\n",
       "    <tr>\n",
       "      <th>min</th>\n",
       "      <td>1.000906e+07</td>\n",
       "      <td>9.000000</td>\n",
       "      <td>10.500000</td>\n",
       "      <td>3.700000</td>\n",
       "      <td>817615.000000</td>\n",
       "    </tr>\n",
       "    <tr>\n",
       "      <th>25%</th>\n",
       "      <td>3.984433e+07</td>\n",
       "      <td>9.000000</td>\n",
       "      <td>62.200000</td>\n",
       "      <td>54.500000</td>\n",
       "      <td>846745.000000</td>\n",
       "    </tr>\n",
       "    <tr>\n",
       "      <th>50%</th>\n",
       "      <td>6.965978e+07</td>\n",
       "      <td>10.000000</td>\n",
       "      <td>73.800000</td>\n",
       "      <td>65.300000</td>\n",
       "      <td>893368.000000</td>\n",
       "    </tr>\n",
       "    <tr>\n",
       "      <th>75%</th>\n",
       "      <td>9.927449e+07</td>\n",
       "      <td>11.000000</td>\n",
       "      <td>84.000000</td>\n",
       "      <td>76.000000</td>\n",
       "      <td>956438.000000</td>\n",
       "    </tr>\n",
       "    <tr>\n",
       "      <th>max</th>\n",
       "      <td>1.299997e+08</td>\n",
       "      <td>12.000000</td>\n",
       "      <td>100.000000</td>\n",
       "      <td>100.000000</td>\n",
       "      <td>991918.000000</td>\n",
       "    </tr>\n",
       "  </tbody>\n",
       "</table>\n",
       "</div>"
      ],
      "text/plain": [
       "         student_id         grade  reading_score    math_score  school_budget\n",
       "count  1.483100e+04  14831.000000   14831.000000  14831.000000   14831.000000\n",
       "mean   6.975296e+07     10.355539      72.357865     64.675733  893742.749107\n",
       "std    3.452909e+07      1.097728      15.224590     15.844093   53938.066467\n",
       "min    1.000906e+07      9.000000      10.500000      3.700000  817615.000000\n",
       "25%    3.984433e+07      9.000000      62.200000     54.500000  846745.000000\n",
       "50%    6.965978e+07     10.000000      73.800000     65.300000  893368.000000\n",
       "75%    9.927449e+07     11.000000      84.000000     76.000000  956438.000000\n",
       "max    1.299997e+08     12.000000     100.000000    100.000000  991918.000000"
      ]
     },
     "execution_count": 14,
     "metadata": {},
     "output_type": "execute_result"
    }
   ],
   "source": [
    "#The summary statistics for the DataFrame are displayed. (6 points)\n",
    "\n",
    "student_df.describe()"
   ]
  },
  {
   "cell_type": "code",
   "execution_count": 15,
   "id": "90fc702f",
   "metadata": {},
   "outputs": [
    {
     "data": {
      "text/plain": [
       "64.67573326141189"
      ]
     },
     "execution_count": 15,
     "metadata": {},
     "output_type": "execute_result"
    }
   ],
   "source": [
    "#The mean of the \"math_score\" column is displayed. (7 points)\n",
    "\n",
    "student_df[\"math_score\"].mean()\n"
   ]
  },
  {
   "cell_type": "code",
   "execution_count": 16,
   "id": "feff9c79",
   "metadata": {},
   "outputs": [
    {
     "data": {
      "text/plain": [
       "10.5"
      ]
     },
     "execution_count": 16,
     "metadata": {},
     "output_type": "execute_result"
    }
   ],
   "source": [
    "#The minimum of the \"reading_score\" column is stored in min_reading_score. (7 points)\n",
    "\n",
    "min_reading_score = student_df[\"reading_score\"].min()\n",
    "min_reading_score"
   ]
  },
  {
   "cell_type": "code",
   "execution_count": null,
   "id": "2ebfc5f6",
   "metadata": {},
   "outputs": [],
   "source": [
    "#The \"grade\" column is displayed. (4 points)\n",
    "\n",
    "filter = student_df[\"grade\"] > 8\n",
    "student_df.loc[filter][\"grade\"]"
   ]
  },
  {
   "cell_type": "code",
   "execution_count": null,
   "id": "254d1698",
   "metadata": {},
   "outputs": [],
   "source": [
    "#The first three rows of Columns 3, 4, and 5 are displayed. (4 points)\n",
    "\n",
    "student_df.iloc[0 : 3, [3, 4, 5]]"
   ]
  },
  {
   "cell_type": "code",
   "execution_count": null,
   "id": "c0e54db5",
   "metadata": {},
   "outputs": [],
   "source": [
    "#The summary statistics for 9th graders are displayed. (4 points)\n",
    "\n",
    "student_nine_df = student_df.loc[(student_df[\"grade\"] == 9)]\n",
    "student_nine_df.describe()\n"
   ]
  },
  {
   "cell_type": "code",
   "execution_count": null,
   "id": "91745742",
   "metadata": {},
   "outputs": [],
   "source": [
    "#The row that contains the minimum reading score is displayed. (4 points)\n",
    "\n",
    "min_reading_row = student_df.loc[(student_df[\"reading_score\"] <= min_reading_score)]\n",
    "min_reading_row"
   ]
  },
  {
   "cell_type": "code",
   "execution_count": null,
   "id": "9a11817b",
   "metadata": {},
   "outputs": [],
   "source": [
    "#The reading scores of the 10th graders at Dixon High School is displayed. (4 points)\n",
    "\n",
    "student_dixon_df = student_df.loc[(student_df[\"school_name\"] == \"Dixon High School\") & (student_df[\"grade\"] == 10)]\n",
    "student_dixon_df.loc[:,[\"school_name\", \"reading_score\"]]"
   ]
  },
  {
   "cell_type": "code",
   "execution_count": null,
   "id": "fb30e056",
   "metadata": {},
   "outputs": [],
   "source": [
    "#The average reading score of all the students in Grades 11 and 12 combined is calculated. (5 points)\n",
    "\n",
    "student_11_12_df = student_df.loc[(student_df[\"grade\"] == 11) | (student_df[\"grade\"] == 12)]\n",
    "\n",
    "student_11_12_df[\"reading_score\"].mean()"
   ]
  },
  {
   "cell_type": "code",
   "execution_count": null,
   "id": "5f04a6c0",
   "metadata": {},
   "outputs": [],
   "source": [
    "#The average budget for each school type is displayed. (7 points)\n",
    "\n",
    "student_school_df = student_df.groupby(by = \"school_type\").mean()\n",
    "student_school_df.loc[:, [\"school_budget\"]]"
   ]
  },
  {
   "cell_type": "code",
   "execution_count": null,
   "id": "47904605",
   "metadata": {},
   "outputs": [],
   "source": [
    "#The total number of students per school is displayed in descending order. (6 points)\n",
    "\n",
    "students_per_school_df = student_df.groupby([\"school_name\"]).count()\n",
    "\n",
    "students_per_school_df.iloc[:,0:1].sort_values(\"student_id\", ascending = False)\n"
   ]
  },
  {
   "cell_type": "code",
   "execution_count": null,
   "id": "3b5910df",
   "metadata": {},
   "outputs": [],
   "source": [
    "#The average math scores for each combination of grade and school type are displayed. (7 points)\n",
    " \n",
    "student_summary_df = student_df.groupby([\"school_type\",\"grade\"]).mean()\n",
    "student_summary_df.iloc[:,[1,2]]\n",
    "\n"
   ]
  },
  {
   "cell_type": "code",
   "execution_count": null,
   "id": "195883af",
   "metadata": {},
   "outputs": [],
   "source": [
    "#Using the provided testing data for PyCity Schools, we were asked \n",
    "#to perform various types of analysis using Pandas on a .csv file.\n",
    "\n",
    "#Output was to be filtered and formatted using a variety of methods \n",
    "#such as loc and iloc, and various conditional statements.\n",
    "\n",
    "#This was an interesting project, in that there were multiple ways \n",
    "#to do many of the required operations. I found the practice of doing \n",
    "#the operation with both loc and iloc to be very helpful in understanding \n",
    "#their attributes. Additionally, the speed with which Pandas is able to \n",
    "#slice lots of data is impressive.\n",
    "\n",
    "#This exposure to Python and Pandas has opened a potential door for me. \n",
    "#Building on this exposure I see how it is possible to use data gathered \n",
    "#in the real world by inexpensive sensors to glean insights into vehicle \n",
    "#dynamics. I look forward to discovering the many wonderful libraries \n",
    "#there are to explore."
   ]
  },
  {
   "cell_type": "code",
   "execution_count": null,
   "id": "7e6ee5e5",
   "metadata": {},
   "outputs": [],
   "source": []
  },
  {
   "cell_type": "code",
   "execution_count": null,
   "id": "456956dd",
   "metadata": {},
   "outputs": [],
   "source": []
  },
  {
   "cell_type": "code",
   "execution_count": null,
   "id": "b39f6759",
   "metadata": {},
   "outputs": [],
   "source": []
  }
 ],
 "metadata": {
  "kernelspec": {
   "display_name": "Python 3 (ipykernel)",
   "language": "python",
   "name": "python3"
  },
  "language_info": {
   "codemirror_mode": {
    "name": "ipython",
    "version": 3
   },
   "file_extension": ".py",
   "mimetype": "text/x-python",
   "name": "python",
   "nbconvert_exporter": "python",
   "pygments_lexer": "ipython3",
   "version": "3.7.13"
  },
  "vscode": {
   "interpreter": {
    "hash": "93254de817882bf554a70fc73bc9368605d0acfabf64ff1fbffb8b43984a530f"
   }
  }
 },
 "nbformat": 4,
 "nbformat_minor": 5
}
